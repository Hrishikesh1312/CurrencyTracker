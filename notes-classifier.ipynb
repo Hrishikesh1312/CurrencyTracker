{
 "cells": [
  {
   "cell_type": "markdown",
   "metadata": {},
   "source": [
    "# **Notes Classifier**\n",
    "Model for classifying notes into 7 classes: 10, 20, 50, 100, 200, 500, 2000"
   ]
  },
  {
   "cell_type": "markdown",
   "metadata": {},
   "source": [
    "### **Importing necessary libraries**"
   ]
  },
  {
   "cell_type": "code",
   "execution_count": 1,
   "metadata": {},
   "outputs": [
    {
     "name": "stderr",
     "output_type": "stream",
     "text": [
      "2023-12-01 09:44:02.926531: E tensorflow/compiler/xla/stream_executor/cuda/cuda_dnn.cc:9342] Unable to register cuDNN factory: Attempting to register factory for plugin cuDNN when one has already been registered\n",
      "2023-12-01 09:44:02.926574: E tensorflow/compiler/xla/stream_executor/cuda/cuda_fft.cc:609] Unable to register cuFFT factory: Attempting to register factory for plugin cuFFT when one has already been registered\n",
      "2023-12-01 09:44:02.926607: E tensorflow/compiler/xla/stream_executor/cuda/cuda_blas.cc:1518] Unable to register cuBLAS factory: Attempting to register factory for plugin cuBLAS when one has already been registered\n",
      "2023-12-01 09:44:02.933557: I tensorflow/core/platform/cpu_feature_guard.cc:182] This TensorFlow binary is optimized to use available CPU instructions in performance-critical operations.\n",
      "To enable the following instructions: AVX2 FMA, in other operations, rebuild TensorFlow with the appropriate compiler flags.\n"
     ]
    }
   ],
   "source": [
    "import numpy as np\n",
    "import tensorflow as tf\n",
    "from keras import layers, models\n",
    "from keras.preprocessing.image import ImageDataGenerator\n",
    "import matplotlib.pyplot as plt\n",
    "from sklearn.metrics import confusion_matrix, ConfusionMatrixDisplay, f1_score\n",
    "import seaborn as sns\n",
    "from sklearn.metrics import classification_report\n",
    "from keras.callbacks import ModelCheckpoint"
   ]
  },
  {
   "cell_type": "code",
   "execution_count": 2,
   "metadata": {},
   "outputs": [],
   "source": [
    "IMAGE_SIZE = (170, 320)\n",
    "BATCH_SIZE = 10\n",
    "EPOCHS = 20"
   ]
  },
  {
   "cell_type": "markdown",
   "metadata": {},
   "source": [
    "### **Splitting dataset for training and validation**"
   ]
  },
  {
   "cell_type": "code",
   "execution_count": 3,
   "metadata": {},
   "outputs": [
    {
     "name": "stdout",
     "output_type": "stream",
     "text": [
      "Found 840 images belonging to 7 classes.\n",
      "Found 210 images belonging to 7 classes.\n"
     ]
    }
   ],
   "source": [
    "train_datagen = ImageDataGenerator(\n",
    "    rescale=1./255,\n",
    "    shear_range=0.2,\n",
    "    zoom_range=0.2,\n",
    "    horizontal_flip=True,\n",
    "    validation_split=0.2\n",
    ")\n",
    "\n",
    "train_generator = train_datagen.flow_from_directory(\n",
    "    'data/multiclass/notes',\n",
    "    target_size=IMAGE_SIZE,\n",
    "    batch_size=BATCH_SIZE,\n",
    "    class_mode='categorical',\n",
    "    subset='training'\n",
    ")\n",
    "\n",
    "validation_generator = train_datagen.flow_from_directory(\n",
    "    'data/multiclass/notes',\n",
    "    target_size=IMAGE_SIZE,\n",
    "    batch_size=BATCH_SIZE,\n",
    "    class_mode='categorical',\n",
    "    subset='validation'\n",
    ")"
   ]
  },
  {
   "cell_type": "markdown",
   "metadata": {},
   "source": [
    "### **Checkpoints**"
   ]
  },
  {
   "cell_type": "code",
   "execution_count": 4,
   "metadata": {},
   "outputs": [],
   "source": [
    "checkpoint_path = \"checkpoints/notes-classifier.h5\""
   ]
  },
  {
   "cell_type": "code",
   "execution_count": 5,
   "metadata": {},
   "outputs": [],
   "source": [
    "checkpoint_callback = ModelCheckpoint(\n",
    "    filepath=checkpoint_path,\n",
    "    monitor='val_accuracy',\n",
    "    save_best_only=True,\n",
    "    save_weights_only=False,\n",
    "    mode='max',\n",
    "    verbose=1\n",
    ")"
   ]
  },
  {
   "cell_type": "markdown",
   "metadata": {},
   "source": [
    "### **CNN**"
   ]
  },
  {
   "cell_type": "code",
   "execution_count": 6,
   "metadata": {},
   "outputs": [
    {
     "name": "stderr",
     "output_type": "stream",
     "text": [
      "2023-12-01 09:44:09.951888: I tensorflow/compiler/xla/stream_executor/cuda/cuda_gpu_executor.cc:894] successful NUMA node read from SysFS had negative value (-1), but there must be at least one NUMA node, so returning NUMA node zero. See more at https://github.com/torvalds/linux/blob/v6.0/Documentation/ABI/testing/sysfs-bus-pci#L344-L355\n",
      "2023-12-01 09:44:09.958361: I tensorflow/compiler/xla/stream_executor/cuda/cuda_gpu_executor.cc:894] successful NUMA node read from SysFS had negative value (-1), but there must be at least one NUMA node, so returning NUMA node zero. See more at https://github.com/torvalds/linux/blob/v6.0/Documentation/ABI/testing/sysfs-bus-pci#L344-L355\n",
      "2023-12-01 09:44:09.958583: I tensorflow/compiler/xla/stream_executor/cuda/cuda_gpu_executor.cc:894] successful NUMA node read from SysFS had negative value (-1), but there must be at least one NUMA node, so returning NUMA node zero. See more at https://github.com/torvalds/linux/blob/v6.0/Documentation/ABI/testing/sysfs-bus-pci#L344-L355\n",
      "2023-12-01 09:44:09.959778: I tensorflow/compiler/xla/stream_executor/cuda/cuda_gpu_executor.cc:894] successful NUMA node read from SysFS had negative value (-1), but there must be at least one NUMA node, so returning NUMA node zero. See more at https://github.com/torvalds/linux/blob/v6.0/Documentation/ABI/testing/sysfs-bus-pci#L344-L355\n",
      "2023-12-01 09:44:09.960012: I tensorflow/compiler/xla/stream_executor/cuda/cuda_gpu_executor.cc:894] successful NUMA node read from SysFS had negative value (-1), but there must be at least one NUMA node, so returning NUMA node zero. See more at https://github.com/torvalds/linux/blob/v6.0/Documentation/ABI/testing/sysfs-bus-pci#L344-L355\n",
      "2023-12-01 09:44:09.960178: I tensorflow/compiler/xla/stream_executor/cuda/cuda_gpu_executor.cc:894] successful NUMA node read from SysFS had negative value (-1), but there must be at least one NUMA node, so returning NUMA node zero. See more at https://github.com/torvalds/linux/blob/v6.0/Documentation/ABI/testing/sysfs-bus-pci#L344-L355\n",
      "2023-12-01 09:44:10.040308: I tensorflow/compiler/xla/stream_executor/cuda/cuda_gpu_executor.cc:894] successful NUMA node read from SysFS had negative value (-1), but there must be at least one NUMA node, so returning NUMA node zero. See more at https://github.com/torvalds/linux/blob/v6.0/Documentation/ABI/testing/sysfs-bus-pci#L344-L355\n",
      "2023-12-01 09:44:10.040582: I tensorflow/compiler/xla/stream_executor/cuda/cuda_gpu_executor.cc:894] successful NUMA node read from SysFS had negative value (-1), but there must be at least one NUMA node, so returning NUMA node zero. See more at https://github.com/torvalds/linux/blob/v6.0/Documentation/ABI/testing/sysfs-bus-pci#L344-L355\n",
      "2023-12-01 09:44:10.040814: I tensorflow/compiler/xla/stream_executor/cuda/cuda_gpu_executor.cc:894] successful NUMA node read from SysFS had negative value (-1), but there must be at least one NUMA node, so returning NUMA node zero. See more at https://github.com/torvalds/linux/blob/v6.0/Documentation/ABI/testing/sysfs-bus-pci#L344-L355\n",
      "2023-12-01 09:44:10.040994: I tensorflow/core/common_runtime/gpu/gpu_device.cc:1886] Created device /job:localhost/replica:0/task:0/device:GPU:0 with 151 MB memory:  -> device: 0, name: NVIDIA GeForce GTX 1660 Ti, pci bus id: 0000:01:00.0, compute capability: 7.5\n",
      "2023-12-01 09:44:10.059045: I tensorflow/compiler/xla/stream_executor/cuda/cuda_driver.cc:746] failed to allocate 151.75MiB (159121408 bytes) from device: CUDA_ERROR_OUT_OF_MEMORY: out of memory\n"
     ]
    }
   ],
   "source": [
    "model = models.Sequential()\n",
    "model.add(layers.Conv2D(16, (3, 3), activation='relu', input_shape=(170, 320, 3)))\n",
    "model.add(layers.MaxPooling2D((2, 2)))\n",
    "model.add(layers.Conv2D(32, (3, 3), activation='relu'))\n",
    "model.add(layers.MaxPooling2D((2, 2)))\n",
    "model.add(layers.Conv2D(64, (3, 3), activation='relu'))\n",
    "model.add(layers.MaxPooling2D((2, 2)))\n",
    "model.add(layers.Conv2D(128, (3, 3), activation='relu'))\n",
    "model.add(layers.MaxPooling2D((2, 2)))\n",
    "model.add(layers.Flatten())\n",
    "model.add(layers.Dense(256, activation='relu'))\n",
    "model.add(layers.Dropout(0.5))\n",
    "model.add(layers.Dense(7, activation='softmax'))"
   ]
  },
  {
   "cell_type": "code",
   "execution_count": 7,
   "metadata": {},
   "outputs": [
    {
     "name": "stdout",
     "output_type": "stream",
     "text": [
      "Model: \"sequential\"\n",
      "_________________________________________________________________\n",
      " Layer (type)                Output Shape              Param #   \n",
      "=================================================================\n",
      " conv2d (Conv2D)             (None, 168, 318, 16)      448       \n",
      "                                                                 \n",
      " max_pooling2d (MaxPooling2  (None, 84, 159, 16)       0         \n",
      " D)                                                              \n",
      "                                                                 \n",
      " conv2d_1 (Conv2D)           (None, 82, 157, 32)       4640      \n",
      "                                                                 \n",
      " max_pooling2d_1 (MaxPoolin  (None, 41, 78, 32)        0         \n",
      " g2D)                                                            \n",
      "                                                                 \n",
      " conv2d_2 (Conv2D)           (None, 39, 76, 64)        18496     \n",
      "                                                                 \n",
      " max_pooling2d_2 (MaxPoolin  (None, 19, 38, 64)        0         \n",
      " g2D)                                                            \n",
      "                                                                 \n",
      " conv2d_3 (Conv2D)           (None, 17, 36, 128)       73856     \n",
      "                                                                 \n",
      " max_pooling2d_3 (MaxPoolin  (None, 8, 18, 128)        0         \n",
      " g2D)                                                            \n",
      "                                                                 \n",
      " flatten (Flatten)           (None, 18432)             0         \n",
      "                                                                 \n",
      " dense (Dense)               (None, 256)               4718848   \n",
      "                                                                 \n",
      " dropout (Dropout)           (None, 256)               0         \n",
      "                                                                 \n",
      " dense_1 (Dense)             (None, 7)                 1799      \n",
      "                                                                 \n",
      "=================================================================\n",
      "Total params: 4818087 (18.38 MB)\n",
      "Trainable params: 4818087 (18.38 MB)\n",
      "Non-trainable params: 0 (0.00 Byte)\n",
      "_________________________________________________________________\n"
     ]
    }
   ],
   "source": [
    "model.summary()"
   ]
  },
  {
   "cell_type": "code",
   "execution_count": 8,
   "metadata": {},
   "outputs": [],
   "source": [
    "model.compile(optimizer='adam',\n",
    "              loss='categorical_crossentropy',\n",
    "              metrics=['accuracy'])"
   ]
  },
  {
   "cell_type": "markdown",
   "metadata": {},
   "source": [
    "### **Training model**"
   ]
  },
  {
   "cell_type": "code",
   "execution_count": 8,
   "metadata": {},
   "outputs": [
    {
     "name": "stdout",
     "output_type": "stream",
     "text": [
      "Epoch 1/20\n"
     ]
    },
    {
     "name": "stderr",
     "output_type": "stream",
     "text": [
      "2023-11-29 18:27:13.482537: I tensorflow/compiler/xla/stream_executor/cuda/cuda_dnn.cc:442] Loaded cuDNN version 8700\n",
      "2023-11-29 18:27:15.658047: I tensorflow/compiler/xla/service/service.cc:168] XLA service 0x7efa740397a0 initialized for platform CUDA (this does not guarantee that XLA will be used). Devices:\n",
      "2023-11-29 18:27:15.658120: I tensorflow/compiler/xla/service/service.cc:176]   StreamExecutor device (0): NVIDIA GeForce GTX 1660 Ti, Compute Capability 7.5\n",
      "2023-11-29 18:27:15.668662: I tensorflow/compiler/mlir/tensorflow/utils/dump_mlir_util.cc:269] disabling MLIR crash reproducer, set env var `MLIR_CRASH_REPRODUCER_DIRECTORY` to enable.\n",
      "2023-11-29 18:27:15.770118: I ./tensorflow/compiler/jit/device_compiler.h:186] Compiled cluster using XLA!  This line is logged at most once for the lifetime of the process.\n"
     ]
    },
    {
     "name": "stdout",
     "output_type": "stream",
     "text": [
      "84/84 [==============================] - ETA: 0s - loss: 1.3929 - accuracy: 0.4238\n",
      "Epoch 1: val_accuracy improved from -inf to 0.76190, saving model to checkpoints/notes-classifier.h5\n",
      "84/84 [==============================] - 15s 114ms/step - loss: 1.3929 - accuracy: 0.4238 - val_loss: 0.6471 - val_accuracy: 0.7619\n",
      "Epoch 2/20\n"
     ]
    },
    {
     "name": "stderr",
     "output_type": "stream",
     "text": [
      "/home/hrishi/Miniconda3/envs/tensorflow/lib/python3.9/site-packages/keras/src/engine/training.py:3079: UserWarning: You are saving your model as an HDF5 file via `model.save()`. This file format is considered legacy. We recommend using instead the native Keras format, e.g. `model.save('my_model.keras')`.\n",
      "  saving_api.save_model(\n"
     ]
    },
    {
     "name": "stdout",
     "output_type": "stream",
     "text": [
      "84/84 [==============================] - ETA: 0s - loss: 0.7770 - accuracy: 0.6762\n",
      "Epoch 2: val_accuracy improved from 0.76190 to 0.84286, saving model to checkpoints/notes-classifier.h5\n",
      "84/84 [==============================] - 10s 115ms/step - loss: 0.7770 - accuracy: 0.6762 - val_loss: 0.4160 - val_accuracy: 0.8429\n",
      "Epoch 3/20\n",
      "84/84 [==============================] - ETA: 0s - loss: 0.5155 - accuracy: 0.8155\n",
      "Epoch 3: val_accuracy did not improve from 0.84286\n",
      "84/84 [==============================] - 9s 109ms/step - loss: 0.5155 - accuracy: 0.8155 - val_loss: 0.8472 - val_accuracy: 0.7857\n",
      "Epoch 4/20\n",
      "84/84 [==============================] - ETA: 0s - loss: 0.5363 - accuracy: 0.8119\n",
      "Epoch 4: val_accuracy improved from 0.84286 to 0.91429, saving model to checkpoints/notes-classifier.h5\n",
      "84/84 [==============================] - 10s 115ms/step - loss: 0.5363 - accuracy: 0.8119 - val_loss: 0.2570 - val_accuracy: 0.9143\n",
      "Epoch 5/20\n",
      "84/84 [==============================] - ETA: 0s - loss: 0.4125 - accuracy: 0.8595\n",
      "Epoch 5: val_accuracy did not improve from 0.91429\n",
      "84/84 [==============================] - 9s 109ms/step - loss: 0.4125 - accuracy: 0.8595 - val_loss: 0.3280 - val_accuracy: 0.8714\n",
      "Epoch 6/20\n",
      "84/84 [==============================] - ETA: 0s - loss: 0.2841 - accuracy: 0.9000\n",
      "Epoch 6: val_accuracy improved from 0.91429 to 0.93810, saving model to checkpoints/notes-classifier.h5\n",
      "84/84 [==============================] - 10s 115ms/step - loss: 0.2841 - accuracy: 0.9000 - val_loss: 0.1426 - val_accuracy: 0.9381\n",
      "Epoch 7/20\n",
      "84/84 [==============================] - ETA: 0s - loss: 0.2970 - accuracy: 0.8952\n",
      "Epoch 7: val_accuracy did not improve from 0.93810\n",
      "84/84 [==============================] - 9s 112ms/step - loss: 0.2970 - accuracy: 0.8952 - val_loss: 0.1805 - val_accuracy: 0.9333\n",
      "Epoch 8/20\n",
      "84/84 [==============================] - ETA: 0s - loss: 0.2130 - accuracy: 0.9345\n",
      "Epoch 8: val_accuracy improved from 0.93810 to 0.97143, saving model to checkpoints/notes-classifier.h5\n",
      "84/84 [==============================] - 10s 118ms/step - loss: 0.2130 - accuracy: 0.9345 - val_loss: 0.1507 - val_accuracy: 0.9714\n",
      "Epoch 9/20\n",
      "84/84 [==============================] - ETA: 0s - loss: 0.3281 - accuracy: 0.8988\n",
      "Epoch 9: val_accuracy did not improve from 0.97143\n",
      "84/84 [==============================] - 9s 113ms/step - loss: 0.3281 - accuracy: 0.8988 - val_loss: 0.2082 - val_accuracy: 0.9619\n",
      "Epoch 10/20\n",
      "84/84 [==============================] - ETA: 0s - loss: 0.2147 - accuracy: 0.9405\n",
      "Epoch 10: val_accuracy improved from 0.97143 to 0.98571, saving model to checkpoints/notes-classifier.h5\n",
      "84/84 [==============================] - 10s 118ms/step - loss: 0.2147 - accuracy: 0.9405 - val_loss: 0.1001 - val_accuracy: 0.9857\n",
      "Epoch 11/20\n",
      "84/84 [==============================] - ETA: 0s - loss: 0.2312 - accuracy: 0.9321\n",
      "Epoch 11: val_accuracy did not improve from 0.98571\n",
      "84/84 [==============================] - 10s 113ms/step - loss: 0.2312 - accuracy: 0.9321 - val_loss: 0.0568 - val_accuracy: 0.9857\n",
      "Epoch 12/20\n",
      "84/84 [==============================] - ETA: 0s - loss: 0.1497 - accuracy: 0.9452\n",
      "Epoch 12: val_accuracy improved from 0.98571 to 1.00000, saving model to checkpoints/notes-classifier.h5\n",
      "84/84 [==============================] - 10s 116ms/step - loss: 0.1497 - accuracy: 0.9452 - val_loss: 0.0254 - val_accuracy: 1.0000\n",
      "Epoch 13/20\n",
      "84/84 [==============================] - ETA: 0s - loss: 0.1781 - accuracy: 0.9500\n",
      "Epoch 13: val_accuracy did not improve from 1.00000\n",
      "84/84 [==============================] - 9s 113ms/step - loss: 0.1781 - accuracy: 0.9500 - val_loss: 0.0282 - val_accuracy: 0.9952\n",
      "Epoch 14/20\n",
      "84/84 [==============================] - ETA: 0s - loss: 0.1776 - accuracy: 0.9345\n",
      "Epoch 14: val_accuracy did not improve from 1.00000\n",
      "84/84 [==============================] - 9s 111ms/step - loss: 0.1776 - accuracy: 0.9345 - val_loss: 0.0743 - val_accuracy: 0.9762\n",
      "Epoch 15/20\n",
      "84/84 [==============================] - ETA: 0s - loss: 0.2327 - accuracy: 0.9298\n",
      "Epoch 15: val_accuracy did not improve from 1.00000\n",
      "84/84 [==============================] - 9s 112ms/step - loss: 0.2327 - accuracy: 0.9298 - val_loss: 0.1011 - val_accuracy: 0.9762\n",
      "Epoch 16/20\n",
      "84/84 [==============================] - ETA: 0s - loss: 0.1359 - accuracy: 0.9595\n",
      "Epoch 16: val_accuracy did not improve from 1.00000\n",
      "84/84 [==============================] - 9s 111ms/step - loss: 0.1359 - accuracy: 0.9595 - val_loss: 0.0311 - val_accuracy: 0.9952\n",
      "Epoch 17/20\n",
      "84/84 [==============================] - ETA: 0s - loss: 0.1159 - accuracy: 0.9667\n",
      "Epoch 17: val_accuracy did not improve from 1.00000\n",
      "84/84 [==============================] - 9s 112ms/step - loss: 0.1159 - accuracy: 0.9667 - val_loss: 0.4016 - val_accuracy: 0.9238\n",
      "Epoch 18/20\n",
      "84/84 [==============================] - ETA: 0s - loss: 0.3640 - accuracy: 0.8964\n",
      "Epoch 18: val_accuracy did not improve from 1.00000\n",
      "84/84 [==============================] - 9s 111ms/step - loss: 0.3640 - accuracy: 0.8964 - val_loss: 0.0385 - val_accuracy: 0.9857\n",
      "Epoch 19/20\n",
      "84/84 [==============================] - ETA: 0s - loss: 0.1520 - accuracy: 0.9512\n",
      "Epoch 19: val_accuracy did not improve from 1.00000\n",
      "84/84 [==============================] - 9s 111ms/step - loss: 0.1520 - accuracy: 0.9512 - val_loss: 0.0752 - val_accuracy: 0.9714\n",
      "Epoch 20/20\n",
      "84/84 [==============================] - ETA: 0s - loss: 0.0887 - accuracy: 0.9738\n",
      "Epoch 20: val_accuracy did not improve from 1.00000\n",
      "84/84 [==============================] - 9s 113ms/step - loss: 0.0887 - accuracy: 0.9738 - val_loss: 0.0306 - val_accuracy: 0.9857\n"
     ]
    }
   ],
   "source": [
    "history = model.fit(\n",
    "    train_generator,\n",
    "    epochs=EPOCHS,\n",
    "    validation_data=validation_generator,\n",
    "    callbacks=[checkpoint_callback]\n",
    ")"
   ]
  },
  {
   "cell_type": "markdown",
   "metadata": {},
   "source": [
    "### **Saving trained model**"
   ]
  },
  {
   "cell_type": "code",
   "execution_count": 9,
   "metadata": {},
   "outputs": [],
   "source": [
    "model.save('saved-models/notes-classifier.h5')"
   ]
  },
  {
   "cell_type": "markdown",
   "metadata": {},
   "source": [
    "### **Model metrics and visualization**"
   ]
  },
  {
   "cell_type": "code",
   "execution_count": 10,
   "metadata": {},
   "outputs": [],
   "source": [
    "acc = history.history['accuracy']\n",
    "val_acc = history.history['val_accuracy']\n",
    "loss = history.history['loss']\n",
    "val_loss = history.history['val_loss']"
   ]
  },
  {
   "cell_type": "markdown",
   "metadata": {},
   "source": [
    "#### **Accuracy**"
   ]
  },
  {
   "cell_type": "code",
   "execution_count": 11,
   "metadata": {},
   "outputs": [
    {
     "name": "stdout",
     "output_type": "stream",
     "text": [
      "Average Training Accuracy: 87.97619074583054%\n",
      "Average Validation Accuracy: 93.8095223903656%\n"
     ]
    }
   ],
   "source": [
    "avg_train_acc = np.mean(history.history['accuracy'])\n",
    "avg_val_acc = np.mean(history.history['val_accuracy'])\n",
    "\n",
    "print(f'Average Training Accuracy: {avg_train_acc*100}%')\n",
    "print(f'Average Validation Accuracy: {avg_val_acc*100}%')"
   ]
  },
  {
   "cell_type": "markdown",
   "metadata": {},
   "source": [
    "#### **Confusion Matrix**"
   ]
  },
  {
   "cell_type": "code",
   "execution_count": 12,
   "metadata": {},
   "outputs": [
    {
     "name": "stdout",
     "output_type": "stream",
     "text": [
      "21/21 [==============================] - 2s 90ms/step\n"
     ]
    },
    {
     "data": {
      "image/png": "[encoded data removed]",
      "text/plain": [
       "<Figure size 800x800 with 1 Axes>"
      ]
     },
     "metadata": {},
     "output_type": "display_data"
    }
   ],
   "source": [
    "# Generate predictions\n",
    "y_pred = model.predict(validation_generator)\n",
    "y_pred_classes = np.argmax(y_pred, axis=1)\n",
    "y_true = validation_generator.classes\n",
    "\n",
    "# Calculate confusion matrix\n",
    "cm = confusion_matrix(y_true, y_pred_classes)\n",
    "\n",
    "# Visualize confusion matrix\n",
    "plt.figure(figsize=(8, 8))\n",
    "sns.heatmap(cm, annot=True, fmt=\"d\", cmap=\"Blues\", cbar=False,\n",
    "            xticklabels=train_generator.class_indices,\n",
    "            yticklabels=train_generator.class_indices)\n",
    "plt.title('Confusion Matrix')\n",
    "plt.xlabel('Predicted')\n",
    "plt.ylabel('True')\n",
    "plt.show()"
   ]
  },
  {
   "cell_type": "markdown",
   "metadata": {},
   "source": [
    "#### **Classification Report**"
   ]
  },
  {
   "cell_type": "code",
   "execution_count": 14,
   "metadata": {},
   "outputs": [
    {
     "name": "stdout",
     "output_type": "stream",
     "text": [
      "Classification Report:\n",
      "               precision    recall  f1-score   support\n",
      "\n",
      "          10       0.21      0.20      0.20        30\n",
      "         100       0.17      0.17      0.17        30\n",
      "          20       0.10      0.10      0.10        30\n",
      "         200       0.16      0.17      0.16        30\n",
      "        2000       0.13      0.13      0.13        30\n",
      "          50       0.20      0.20      0.20        30\n",
      "         500       0.06      0.07      0.07        30\n",
      "\n",
      "    accuracy                           0.15       210\n",
      "   macro avg       0.15      0.15      0.15       210\n",
      "weighted avg       0.15      0.15      0.15       210\n",
      "\n"
     ]
    }
   ],
   "source": [
    "class_report = classification_report(y_true, y_pred_classes, target_names=train_generator.class_indices.keys())\n",
    "print(\"Classification Report:\\n\", class_report)"
   ]
  },
  {
   "cell_type": "markdown",
   "metadata": {},
   "source": [
    "#### **Loss and Accuracy graphs**"
   ]
  },
  {
   "cell_type": "code",
   "execution_count": 15,
   "metadata": {},
   "outputs": [
    {
     "data": {
      "text/plain": [
       "<Figure size 1200x500 with 0 Axes>"
      ]
     },
     "execution_count": 15,
     "metadata": {},
     "output_type": "execute_result"
    },
    {
     "data": {
      "text/plain": [
       "<Figure size 1200x500 with 0 Axes>"
      ]
     },
     "metadata": {},
     "output_type": "display_data"
    }
   ],
   "source": [
    "epochs_range = range(1, EPOCHS + 1)\n",
    "\n",
    "plt.figure(figsize=(12, 5))"
   ]
  },
  {
   "cell_type": "code",
   "execution_count": 16,
   "metadata": {},
   "outputs": [
    {
     "data": {
      "image/png": "[encoded data removed]",
      "text/plain": [
       "<Figure size 640x480 with 2 Axes>"
      ]
     },
     "metadata": {},
     "output_type": "display_data"
    }
   ],
   "source": [
    "plt.subplot(1, 2, 1)\n",
    "plt.plot(epochs_range, acc, label='Training Accuracy')\n",
    "plt.plot(epochs_range, val_acc, label='Validation Accuracy')\n",
    "plt.legend(loc='lower right')\n",
    "plt.title('Training and Validation Accuracy')\n",
    "\n",
    "plt.subplot(1, 2, 2)\n",
    "plt.plot(epochs_range, loss, label='Training Loss')\n",
    "plt.plot(epochs_range, val_loss, label='Validation Loss')\n",
    "plt.legend(loc='upper right')\n",
    "plt.title('Training and Validation Loss')\n",
    "\n",
    "plt.show()"
   ]
  }
 ],
 "metadata": {
  "kernelspec": {
   "display_name": "tensorflow",
   "language": "python",
   "name": "python3"
  },
  "language_info": {
   "codemirror_mode": {
    "name": "ipython",
    "version": 3
   },
   "file_extension": ".py",
   "mimetype": "text/x-python",
   "name": "python",
   "nbconvert_exporter": "python",
   "pygments_lexer": "ipython3",
   "version": "3.9.18"
  }
 },
 "nbformat": 4,
 "nbformat_minor": 2
}
