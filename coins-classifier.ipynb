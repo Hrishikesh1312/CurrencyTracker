{
 "cells": [
  {
   "cell_type": "markdown",
   "metadata": {},
   "source": [
    "# **Coins Classifier**\n",
    "Model for classifying coins into 4 classes: 1, 2, 5, 10"
   ]
  },
  {
   "cell_type": "markdown",
   "metadata": {},
   "source": [
    "### **Importing necessary libraries**"
   ]
  },
  {
   "cell_type": "code",
   "execution_count": 1,
   "metadata": {},
   "outputs": [
    {
     "name": "stderr",
     "output_type": "stream",
     "text": [
      "2023-12-01 09:43:42.069869: E tensorflow/compiler/xla/stream_executor/cuda/cuda_dnn.cc:9342] Unable to register cuDNN factory: Attempting to register factory for plugin cuDNN when one has already been registered\n",
      "2023-12-01 09:43:42.069909: E tensorflow/compiler/xla/stream_executor/cuda/cuda_fft.cc:609] Unable to register cuFFT factory: Attempting to register factory for plugin cuFFT when one has already been registered\n",
      "2023-12-01 09:43:42.069940: E tensorflow/compiler/xla/stream_executor/cuda/cuda_blas.cc:1518] Unable to register cuBLAS factory: Attempting to register factory for plugin cuBLAS when one has already been registered\n",
      "2023-12-01 09:43:42.076931: I tensorflow/core/platform/cpu_feature_guard.cc:182] This TensorFlow binary is optimized to use available CPU instructions in performance-critical operations.\n",
      "To enable the following instructions: AVX2 FMA, in other operations, rebuild TensorFlow with the appropriate compiler flags.\n"
     ]
    }
   ],
   "source": [
    "import numpy as np\n",
    "import tensorflow as tf\n",
    "from keras import layers, models\n",
    "from keras.preprocessing.image import ImageDataGenerator\n",
    "import matplotlib.pyplot as plt\n",
    "from sklearn.metrics import confusion_matrix, ConfusionMatrixDisplay, f1_score\n",
    "import seaborn as sns\n",
    "from sklearn.metrics import classification_report\n",
    "from keras.callbacks import ModelCheckpoint"
   ]
  },
  {
   "cell_type": "code",
   "execution_count": 2,
   "metadata": {},
   "outputs": [],
   "source": [
    "IMAGE_SIZE = (170, 320)\n",
    "BATCH_SIZE = 10\n",
    "EPOCHS = 20"
   ]
  },
  {
   "cell_type": "markdown",
   "metadata": {},
   "source": [
    "### **Splitting dataset for training and validation**"
   ]
  },
  {
   "cell_type": "code",
   "execution_count": 3,
   "metadata": {},
   "outputs": [
    {
     "name": "stdout",
     "output_type": "stream",
     "text": [
      "Found 527 images belonging to 4 classes.\n"
     ]
    },
    {
     "name": "stdout",
     "output_type": "stream",
     "text": [
      "Found 129 images belonging to 4 classes.\n"
     ]
    }
   ],
   "source": [
    "train_datagen = ImageDataGenerator(\n",
    "    rescale=1./255,\n",
    "    shear_range=0.2,\n",
    "    zoom_range=0.2,\n",
    "    horizontal_flip=True,\n",
    "    validation_split=0.2\n",
    ")\n",
    "\n",
    "path = 'data/multiclass/coins/'\n",
    "\n",
    "train_generator = train_datagen.flow_from_directory(\n",
    "    path,\n",
    "    target_size=IMAGE_SIZE,\n",
    "    batch_size=BATCH_SIZE,\n",
    "    class_mode='categorical',\n",
    "    subset='training'\n",
    ")\n",
    "\n",
    "validation_generator = train_datagen.flow_from_directory(\n",
    "    path,\n",
    "    target_size=IMAGE_SIZE,\n",
    "    batch_size=BATCH_SIZE,\n",
    "    class_mode='categorical',\n",
    "    subset='validation'\n",
    ")"
   ]
  },
  {
   "cell_type": "markdown",
   "metadata": {},
   "source": [
    "### **Checkpoints**"
   ]
  },
  {
   "cell_type": "code",
   "execution_count": 4,
   "metadata": {},
   "outputs": [],
   "source": [
    "checkpoint_path = \"checkpoints/coins-classifier.h5\""
   ]
  },
  {
   "cell_type": "code",
   "execution_count": 5,
   "metadata": {},
   "outputs": [],
   "source": [
    "checkpoint_callback = ModelCheckpoint(\n",
    "    filepath=checkpoint_path,\n",
    "    monitor='val_accuracy',\n",
    "    save_best_only=True,\n",
    "    save_weights_only=False,\n",
    "    mode='max',\n",
    "    verbose=1\n",
    ")"
   ]
  },
  {
   "cell_type": "markdown",
   "metadata": {},
   "source": [
    "### **CNN**"
   ]
  },
  {
   "cell_type": "code",
   "execution_count": 6,
   "metadata": {},
   "outputs": [
    {
     "name": "stderr",
     "output_type": "stream",
     "text": [
      "2023-12-01 09:43:51.765645: I tensorflow/compiler/xla/stream_executor/cuda/cuda_gpu_executor.cc:894] successful NUMA node read from SysFS had negative value (-1), but there must be at least one NUMA node, so returning NUMA node zero. See more at https://github.com/torvalds/linux/blob/v6.0/Documentation/ABI/testing/sysfs-bus-pci#L344-L355\n",
      "2023-12-01 09:43:51.771933: I tensorflow/compiler/xla/stream_executor/cuda/cuda_gpu_executor.cc:894] successful NUMA node read from SysFS had negative value (-1), but there must be at least one NUMA node, so returning NUMA node zero. See more at https://github.com/torvalds/linux/blob/v6.0/Documentation/ABI/testing/sysfs-bus-pci#L344-L355\n",
      "2023-12-01 09:43:51.772387: I tensorflow/compiler/xla/stream_executor/cuda/cuda_gpu_executor.cc:894] successful NUMA node read from SysFS had negative value (-1), but there must be at least one NUMA node, so returning NUMA node zero. See more at https://github.com/torvalds/linux/blob/v6.0/Documentation/ABI/testing/sysfs-bus-pci#L344-L355\n",
      "2023-12-01 09:43:51.773734: I tensorflow/compiler/xla/stream_executor/cuda/cuda_gpu_executor.cc:894] successful NUMA node read from SysFS had negative value (-1), but there must be at least one NUMA node, so returning NUMA node zero. See more at https://github.com/torvalds/linux/blob/v6.0/Documentation/ABI/testing/sysfs-bus-pci#L344-L355\n",
      "2023-12-01 09:43:51.774265: I tensorflow/compiler/xla/stream_executor/cuda/cuda_gpu_executor.cc:894] successful NUMA node read from SysFS had negative value (-1), but there must be at least one NUMA node, so returning NUMA node zero. See more at https://github.com/torvalds/linux/blob/v6.0/Documentation/ABI/testing/sysfs-bus-pci#L344-L355\n",
      "2023-12-01 09:43:51.774600: I tensorflow/compiler/xla/stream_executor/cuda/cuda_gpu_executor.cc:894] successful NUMA node read from SysFS had negative value (-1), but there must be at least one NUMA node, so returning NUMA node zero. See more at https://github.com/torvalds/linux/blob/v6.0/Documentation/ABI/testing/sysfs-bus-pci#L344-L355\n",
      "2023-12-01 09:43:51.882280: I tensorflow/compiler/xla/stream_executor/cuda/cuda_gpu_executor.cc:894] successful NUMA node read from SysFS had negative value (-1), but there must be at least one NUMA node, so returning NUMA node zero. See more at https://github.com/torvalds/linux/blob/v6.0/Documentation/ABI/testing/sysfs-bus-pci#L344-L355\n",
      "2023-12-01 09:43:51.882482: I tensorflow/compiler/xla/stream_executor/cuda/cuda_gpu_executor.cc:894] successful NUMA node read from SysFS had negative value (-1), but there must be at least one NUMA node, so returning NUMA node zero. See more at https://github.com/torvalds/linux/blob/v6.0/Documentation/ABI/testing/sysfs-bus-pci#L344-L355\n",
      "2023-12-01 09:43:51.882645: I tensorflow/compiler/xla/stream_executor/cuda/cuda_gpu_executor.cc:894] successful NUMA node read from SysFS had negative value (-1), but there must be at least one NUMA node, so returning NUMA node zero. See more at https://github.com/torvalds/linux/blob/v6.0/Documentation/ABI/testing/sysfs-bus-pci#L344-L355\n",
      "2023-12-01 09:43:51.882787: I tensorflow/core/common_runtime/gpu/gpu_device.cc:1886] Created device /job:localhost/replica:0/task:0/device:GPU:0 with 752 MB memory:  -> device: 0, name: NVIDIA GeForce GTX 1660 Ti, pci bus id: 0000:01:00.0, compute capability: 7.5\n"
     ]
    }
   ],
   "source": [
    "model = models.Sequential()\n",
    "model.add(layers.Conv2D(16, (3, 3), activation='relu', input_shape=(170, 320, 3)))\n",
    "model.add(layers.MaxPooling2D((2, 2)))\n",
    "model.add(layers.Conv2D(32, (3, 3), activation='relu'))\n",
    "model.add(layers.MaxPooling2D((2, 2)))\n",
    "model.add(layers.Conv2D(64, (3, 3), activation='relu'))\n",
    "model.add(layers.MaxPooling2D((2, 2)))\n",
    "model.add(layers.Flatten())\n",
    "model.add(layers.Dense(128, activation='relu'))\n",
    "model.add(layers.Dropout(0.5))\n",
    "model.add(layers.Dense(4, activation='softmax'))"
   ]
  },
  {
   "cell_type": "code",
   "execution_count": 7,
   "metadata": {},
   "outputs": [
    {
     "name": "stdout",
     "output_type": "stream",
     "text": [
      "Model: \"sequential\"\n",
      "_________________________________________________________________\n",
      " Layer (type)                Output Shape              Param #   \n",
      "=================================================================\n",
      " conv2d (Conv2D)             (None, 168, 318, 16)      448       \n",
      "                                                                 \n",
      " max_pooling2d (MaxPooling2  (None, 84, 159, 16)       0         \n",
      " D)                                                              \n",
      "                                                                 \n",
      " conv2d_1 (Conv2D)           (None, 82, 157, 32)       4640      \n",
      "                                                                 \n",
      " max_pooling2d_1 (MaxPoolin  (None, 41, 78, 32)        0         \n",
      " g2D)                                                            \n",
      "                                                                 \n",
      " conv2d_2 (Conv2D)           (None, 39, 76, 64)        18496     \n",
      "                                                                 \n",
      " max_pooling2d_2 (MaxPoolin  (None, 19, 38, 64)        0         \n",
      " g2D)                                                            \n",
      "                                                                 \n",
      " flatten (Flatten)           (None, 46208)             0         \n",
      "                                                                 \n",
      " dense (Dense)               (None, 128)               5914752   \n",
      "                                                                 \n",
      " dropout (Dropout)           (None, 128)               0         \n",
      "                                                                 \n",
      " dense_1 (Dense)             (None, 4)                 516       \n",
      "                                                                 \n",
      "=================================================================\n",
      "Total params: 5938852 (22.65 MB)\n",
      "Trainable params: 5938852 (22.65 MB)\n",
      "Non-trainable params: 0 (0.00 Byte)\n",
      "_________________________________________________________________\n"
     ]
    }
   ],
   "source": [
    "model.summary()"
   ]
  },
  {
   "cell_type": "code",
   "execution_count": 7,
   "metadata": {},
   "outputs": [],
   "source": [
    "model.compile(optimizer='adam',\n",
    "              loss='categorical_crossentropy',\n",
    "              metrics=['accuracy'])"
   ]
  },
  {
   "cell_type": "markdown",
   "metadata": {},
   "source": [
    "### **Training model**"
   ]
  },
  {
   "cell_type": "code",
   "execution_count": 8,
   "metadata": {},
   "outputs": [
    {
     "name": "stdout",
     "output_type": "stream",
     "text": [
      "Epoch 1/20\n"
     ]
    },
    {
     "name": "stderr",
     "output_type": "stream",
     "text": [
      "2023-11-29 18:12:42.224943: I tensorflow/compiler/xla/stream_executor/cuda/cuda_dnn.cc:442] Loaded cuDNN version 8700\n",
      "2023-11-29 18:12:43.702268: I tensorflow/compiler/xla/service/service.cc:168] XLA service 0x7ff80404c300 initialized for platform CUDA (this does not guarantee that XLA will be used). Devices:\n",
      "2023-11-29 18:12:43.702330: I tensorflow/compiler/xla/service/service.cc:176]   StreamExecutor device (0): NVIDIA GeForce GTX 1660 Ti, Compute Capability 7.5\n",
      "2023-11-29 18:12:43.709081: I tensorflow/compiler/mlir/tensorflow/utils/dump_mlir_util.cc:269] disabling MLIR crash reproducer, set env var `MLIR_CRASH_REPRODUCER_DIRECTORY` to enable.\n",
      "2023-11-29 18:12:43.801757: I ./tensorflow/compiler/jit/device_compiler.h:186] Compiled cluster using XLA!  This line is logged at most once for the lifetime of the process.\n"
     ]
    },
    {
     "name": "stdout",
     "output_type": "stream",
     "text": [
      "53/53 [==============================] - ETA: 0s - loss: 1.4713 - accuracy: 0.2713\n",
      "Epoch 1: val_accuracy improved from -inf to 0.26357, saving model to checkpoints/coins-classifier.h5\n",
      "53/53 [==============================] - 42s 729ms/step - loss: 1.4713 - accuracy: 0.2713 - val_loss: 1.3529 - val_accuracy: 0.2636\n",
      "Epoch 2/20\n"
     ]
    },
    {
     "name": "stderr",
     "output_type": "stream",
     "text": [
      "/home/hrishi/Miniconda3/envs/tensorflow/lib/python3.9/site-packages/keras/src/engine/training.py:3079: UserWarning: You are saving your model as an HDF5 file via `model.save()`. This file format is considered legacy. We recommend using instead the native Keras format, e.g. `model.save('my_model.keras')`.\n",
      "  saving_api.save_model(\n"
     ]
    },
    {
     "name": "stdout",
     "output_type": "stream",
     "text": [
      "53/53 [==============================] - ETA: 0s - loss: 1.3504 - accuracy: 0.2979\n",
      "Epoch 2: val_accuracy improved from 0.26357 to 0.44186, saving model to checkpoints/coins-classifier.h5\n",
      "53/53 [==============================] - 38s 723ms/step - loss: 1.3504 - accuracy: 0.2979 - val_loss: 1.3235 - val_accuracy: 0.4419\n",
      "Epoch 3/20\n",
      "53/53 [==============================] - ETA: 0s - loss: 1.3409 - accuracy: 0.3264\n",
      "Epoch 3: val_accuracy improved from 0.44186 to 0.52713, saving model to checkpoints/coins-classifier.h5\n",
      "53/53 [==============================] - 39s 744ms/step - loss: 1.3409 - accuracy: 0.3264 - val_loss: 1.1484 - val_accuracy: 0.5271\n",
      "Epoch 4/20\n",
      "53/53 [==============================] - ETA: 0s - loss: 1.2357 - accuracy: 0.4080\n",
      "Epoch 4: val_accuracy improved from 0.52713 to 0.58915, saving model to checkpoints/coins-classifier.h5\n",
      "53/53 [==============================] - 38s 714ms/step - loss: 1.2357 - accuracy: 0.4080 - val_loss: 0.9896 - val_accuracy: 0.5891\n",
      "Epoch 5/20\n",
      "53/53 [==============================] - ETA: 0s - loss: 1.1456 - accuracy: 0.4801\n",
      "Epoch 5: val_accuracy did not improve from 0.58915\n",
      "53/53 [==============================] - 37s 707ms/step - loss: 1.1456 - accuracy: 0.4801 - val_loss: 0.9023 - val_accuracy: 0.5504\n",
      "Epoch 6/20\n",
      "53/53 [==============================] - ETA: 0s - loss: 1.0350 - accuracy: 0.5142\n",
      "Epoch 6: val_accuracy did not improve from 0.58915\n",
      "53/53 [==============================] - 38s 709ms/step - loss: 1.0350 - accuracy: 0.5142 - val_loss: 0.8447 - val_accuracy: 0.5349\n",
      "Epoch 7/20\n",
      "53/53 [==============================] - ETA: 0s - loss: 1.0596 - accuracy: 0.4934\n",
      "Epoch 7: val_accuracy did not improve from 0.58915\n",
      "53/53 [==============================] - 35s 663ms/step - loss: 1.0596 - accuracy: 0.4934 - val_loss: 0.9280 - val_accuracy: 0.5659\n",
      "Epoch 8/20\n",
      "53/53 [==============================] - ETA: 0s - loss: 1.0037 - accuracy: 0.5389\n",
      "Epoch 8: val_accuracy did not improve from 0.58915\n",
      "53/53 [==============================] - 38s 725ms/step - loss: 1.0037 - accuracy: 0.5389 - val_loss: 0.9027 - val_accuracy: 0.5039\n",
      "Epoch 9/20\n",
      "53/53 [==============================] - ETA: 0s - loss: 0.9867 - accuracy: 0.5617\n",
      "Epoch 9: val_accuracy did not improve from 0.58915\n",
      "53/53 [==============================] - 38s 710ms/step - loss: 0.9867 - accuracy: 0.5617 - val_loss: 0.9209 - val_accuracy: 0.5271\n",
      "Epoch 10/20\n",
      "53/53 [==============================] - ETA: 0s - loss: 0.9151 - accuracy: 0.6053\n",
      "Epoch 10: val_accuracy did not improve from 0.58915\n",
      "53/53 [==============================] - 35s 664ms/step - loss: 0.9151 - accuracy: 0.6053 - val_loss: 1.0159 - val_accuracy: 0.4806\n",
      "Epoch 11/20\n",
      "53/53 [==============================] - ETA: 0s - loss: 0.9006 - accuracy: 0.5920\n",
      "Epoch 11: val_accuracy did not improve from 0.58915\n",
      "53/53 [==============================] - 36s 689ms/step - loss: 0.9006 - accuracy: 0.5920 - val_loss: 1.2146 - val_accuracy: 0.5349\n",
      "Epoch 12/20\n",
      "53/53 [==============================] - ETA: 0s - loss: 0.8706 - accuracy: 0.6186\n",
      "Epoch 12: val_accuracy did not improve from 0.58915\n",
      "53/53 [==============================] - 38s 721ms/step - loss: 0.8706 - accuracy: 0.6186 - val_loss: 0.8898 - val_accuracy: 0.5504\n",
      "Epoch 13/20\n",
      "53/53 [==============================] - ETA: 0s - loss: 0.8929 - accuracy: 0.6224\n",
      "Epoch 13: val_accuracy did not improve from 0.58915\n",
      "53/53 [==============================] - 37s 702ms/step - loss: 0.8929 - accuracy: 0.6224 - val_loss: 0.8165 - val_accuracy: 0.5426\n",
      "Epoch 14/20\n",
      "53/53 [==============================] - ETA: 0s - loss: 0.8807 - accuracy: 0.6167\n",
      "Epoch 14: val_accuracy did not improve from 0.58915\n",
      "53/53 [==============================] - 37s 694ms/step - loss: 0.8807 - accuracy: 0.6167 - val_loss: 0.8967 - val_accuracy: 0.5736\n",
      "Epoch 15/20\n",
      "53/53 [==============================] - ETA: 0s - loss: 0.7461 - accuracy: 0.6888\n",
      "Epoch 15: val_accuracy improved from 0.58915 to 0.68992, saving model to checkpoints/coins-classifier.h5\n",
      "53/53 [==============================] - 38s 722ms/step - loss: 0.7461 - accuracy: 0.6888 - val_loss: 0.8997 - val_accuracy: 0.6899\n",
      "Epoch 16/20\n",
      "53/53 [==============================] - ETA: 0s - loss: 0.9311 - accuracy: 0.5769\n",
      "Epoch 16: val_accuracy did not improve from 0.68992\n",
      "53/53 [==============================] - 38s 718ms/step - loss: 0.9311 - accuracy: 0.5769 - val_loss: 0.9792 - val_accuracy: 0.5271\n",
      "Epoch 17/20\n",
      "53/53 [==============================] - ETA: 0s - loss: 0.7615 - accuracy: 0.7040\n",
      "Epoch 17: val_accuracy did not improve from 0.68992\n",
      "53/53 [==============================] - 39s 730ms/step - loss: 0.7615 - accuracy: 0.7040 - val_loss: 0.9377 - val_accuracy: 0.5039\n",
      "Epoch 18/20\n",
      "53/53 [==============================] - ETA: 0s - loss: 0.8366 - accuracy: 0.6319\n",
      "Epoch 18: val_accuracy did not improve from 0.68992\n",
      "53/53 [==============================] - 38s 714ms/step - loss: 0.8366 - accuracy: 0.6319 - val_loss: 0.9273 - val_accuracy: 0.4961\n",
      "Epoch 19/20\n",
      "53/53 [==============================] - ETA: 0s - loss: 0.8067 - accuracy: 0.6603\n",
      "Epoch 19: val_accuracy did not improve from 0.68992\n",
      "53/53 [==============================] - 37s 704ms/step - loss: 0.8067 - accuracy: 0.6603 - val_loss: 0.9511 - val_accuracy: 0.5659\n",
      "Epoch 20/20\n",
      "53/53 [==============================] - ETA: 0s - loss: 0.7419 - accuracy: 0.6831\n",
      "Epoch 20: val_accuracy did not improve from 0.68992\n",
      "53/53 [==============================] - 34s 650ms/step - loss: 0.7419 - accuracy: 0.6831 - val_loss: 0.9674 - val_accuracy: 0.5891\n"
     ]
    }
   ],
   "source": [
    "history = model.fit(\n",
    "    train_generator, \n",
    "    epochs=EPOCHS, \n",
    "    validation_data=validation_generator,\n",
    "    callbacks=[checkpoint_callback]\n",
    ")"
   ]
  },
  {
   "cell_type": "markdown",
   "metadata": {},
   "source": [
    "### **Saving trained model**"
   ]
  },
  {
   "cell_type": "code",
   "execution_count": 9,
   "metadata": {},
   "outputs": [],
   "source": [
    "model.save('saved-models/coins-classifier.h5')"
   ]
  },
  {
   "cell_type": "markdown",
   "metadata": {},
   "source": [
    "### **Model metrics and visualization**"
   ]
  },
  {
   "cell_type": "code",
   "execution_count": 10,
   "metadata": {},
   "outputs": [],
   "source": [
    "acc = history.history['accuracy']\n",
    "val_acc = history.history['val_accuracy']\n",
    "loss = history.history['loss']\n",
    "val_loss = history.history['val_loss']"
   ]
  },
  {
   "cell_type": "markdown",
   "metadata": {},
   "source": [
    "#### **Accuracy**"
   ]
  },
  {
   "cell_type": "code",
   "execution_count": 11,
   "metadata": {},
   "outputs": [
    {
     "name": "stdout",
     "output_type": "stream",
     "text": [
      "Average Training Accuracy: 54.45920318365097%\n",
      "Average Validation Accuracy: 52.790697664022446%\n"
     ]
    }
   ],
   "source": [
    "avg_train_acc = np.mean(history.history['accuracy'])\n",
    "avg_val_acc = np.mean(history.history['val_accuracy'])\n",
    "\n",
    "print(f'Average Training Accuracy: {avg_train_acc*100}%')\n",
    "print(f'Average Validation Accuracy: {avg_val_acc*100}%')"
   ]
  },
  {
   "cell_type": "markdown",
   "metadata": {},
   "source": [
    "#### **Confusion Matrix**"
   ]
  },
  {
   "cell_type": "code",
   "execution_count": 12,
   "metadata": {},
   "outputs": [
    {
     "name": "stdout",
     "output_type": "stream",
     "text": [
      "13/13 [==============================] - 9s 643ms/step\n"
     ]
    },
    {
     "data": {
      "image/png": "[encoded data removed]",
      "text/plain": [
       "<Figure size 800x800 with 1 Axes>"
      ]
     },
     "metadata": {},
     "output_type": "display_data"
    }
   ],
   "source": [
    "# Generate predictions\n",
    "y_pred = model.predict(validation_generator)\n",
    "y_pred_classes = np.argmax(y_pred, axis=1)\n",
    "y_true = validation_generator.classes\n",
    "\n",
    "# Calculate confusion matrix\n",
    "cm = confusion_matrix(y_true, y_pred_classes)\n",
    "\n",
    "# Visualize confusion matrix\n",
    "plt.figure(figsize=(8, 8))\n",
    "sns.heatmap(cm, annot=True, fmt=\"d\", cmap=\"Blues\", cbar=False,\n",
    "            xticklabels=train_generator.class_indices,\n",
    "            yticklabels=train_generator.class_indices)\n",
    "plt.title('Confusion Matrix')\n",
    "plt.xlabel('Predicted')\n",
    "plt.ylabel('True')\n",
    "plt.show()"
   ]
  },
  {
   "cell_type": "markdown",
   "metadata": {},
   "source": [
    "#### **Classification Report**"
   ]
  },
  {
   "cell_type": "code",
   "execution_count": 14,
   "metadata": {},
   "outputs": [
    {
     "name": "stdout",
     "output_type": "stream",
     "text": [
      "Classification Report:\n",
      "               precision    recall  f1-score   support\n",
      "\n",
      "           1       0.44      0.50      0.47        38\n",
      "          10       0.00      0.00      0.00        14\n",
      "           2       0.39      0.28      0.33        39\n",
      "           5       0.36      0.45      0.40        38\n",
      "\n",
      "    accuracy                           0.36       129\n",
      "   macro avg       0.30      0.31      0.30       129\n",
      "weighted avg       0.36      0.36      0.36       129\n",
      "\n"
     ]
    }
   ],
   "source": [
    "class_report = classification_report(y_true, y_pred_classes, target_names=train_generator.class_indices.keys())\n",
    "print(\"Classification Report:\\n\", class_report)"
   ]
  },
  {
   "cell_type": "markdown",
   "metadata": {},
   "source": [
    "#### **Loss and Accuracy graphs**"
   ]
  },
  {
   "cell_type": "code",
   "execution_count": 15,
   "metadata": {},
   "outputs": [
    {
     "data": {
      "text/plain": [
       "<Figure size 1200x500 with 0 Axes>"
      ]
     },
     "execution_count": 15,
     "metadata": {},
     "output_type": "execute_result"
    },
    {
     "data": {
      "text/plain": [
       "<Figure size 1200x500 with 0 Axes>"
      ]
     },
     "metadata": {},
     "output_type": "display_data"
    }
   ],
   "source": [
    "epochs_range = range(1, EPOCHS + 1)\n",
    "\n",
    "plt.figure(figsize=(12, 5))"
   ]
  },
  {
   "cell_type": "code",
   "execution_count": 16,
   "metadata": {},
   "outputs": [
    {
     "data": {
      "image/png": "[encoded data removed]",
      "text/plain": [
       "<Figure size 640x480 with 2 Axes>"
      ]
     },
     "metadata": {},
     "output_type": "display_data"
    }
   ],
   "source": [
    "plt.subplot(1, 2, 1)\n",
    "plt.plot(epochs_range, acc, label='Training Accuracy')\n",
    "plt.plot(epochs_range, val_acc, label='Validation Accuracy')\n",
    "plt.legend(loc='lower right')\n",
    "plt.title('Training and Validation Accuracy')\n",
    "\n",
    "plt.subplot(1, 2, 2)\n",
    "plt.plot(epochs_range, loss, label='Training Loss')\n",
    "plt.plot(epochs_range, val_loss, label='Validation Loss')\n",
    "plt.legend(loc='upper right')\n",
    "plt.title('Training and Validation Loss')\n",
    "\n",
    "plt.show()"
   ]
  }
 ],
 "metadata": {
  "kernelspec": {
   "display_name": "tensorflow",
   "language": "python",
   "name": "python3"
  },
  "language_info": {
   "codemirror_mode": {
    "name": "ipython",
    "version": 3
   },
   "file_extension": ".py",
   "mimetype": "text/x-python",
   "name": "python",
   "nbconvert_exporter": "python",
   "pygments_lexer": "ipython3",
   "version": "3.9.18"
  }
 },
 "nbformat": 4,
 "nbformat_minor": 2
}
